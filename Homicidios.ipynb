{
 "metadata": {
  "name": "",
  "signature": "sha256:fe6a4e56e72546a63987fd68fcfbc8b4dff7756e6f2a9963cf992db25c280e8e"
 },
 "nbformat": 3,
 "nbformat_minor": 0,
 "worksheets": [
  {
   "cells": [
    {
     "cell_type": "code",
     "collapsed": false,
     "input": [
      "import csv\n",
      "%pylab inline"
     ],
     "language": "python",
     "metadata": {},
     "outputs": [
      {
       "output_type": "stream",
       "stream": "stdout",
       "text": [
        "Populating the interactive namespace from numpy and matplotlib\n"
       ]
      }
     ],
     "prompt_number": 7
    },
    {
     "cell_type": "heading",
     "level": 1,
     "metadata": {},
     "source": [
      "An\u00e1lisis por componentes (PCA)"
     ]
    },
    {
     "cell_type": "code",
     "collapsed": false,
     "input": [
      "reader = csv.reader(open('homicidios.1990.a.2013.csv','rU'))\n",
      "\n",
      "data = []\n",
      "n_lines = 0\n",
      "for line in reader:\n",
      "    if not \"NA\" in line:\n",
      "        if not \"#DIV/0!\"in line:\n",
      "            data.append(line)\n",
      "            n_lines += 1\n",
      "            \n",
      "daticos = np.empty((n_lines,24))\n",
      "\n",
      "for i in range(1,n_lines):\n",
      "    j=0\n",
      "    line = data[i]\n",
      "    while (4+3*j < len(line)):\n",
      "            daticos[i,j]=line[5+3*j]\n",
      "            j +=1\n",
      "            \n",
      "x = shape(daticos)\n",
      "\n",
      "print x\n",
      "n_datos = x[0]\n",
      "n_dims = x[1]\n",
      "\n",
      "media = zeros(n_dims)\n",
      "\n",
      "for i in range(n_dims):\n",
      "    media[i] = mean(daticos[:,i])\n",
      "    \n",
      "# Calculo la matriz de covarianzas:\n",
      "\n",
      "d = zeros((n_dims,n_dims)) #Inicializo mi matriz\n",
      "\n",
      "\n",
      "for i in range(n_dims):\n",
      "    for j in range(n_dims):\n",
      "        s = 0\n",
      "        for k in range(n_datos):\n",
      "            s += (daticos[k,i]-media[i])*(daticos[k,j]-media[j])\n",
      "            d[i,j] = s/(n_datos-1)\n",
      "            \n",
      "#imshow(log(d),interpolation='nearest')\n",
      "\n",
      "\n",
      "#Calculo los valores propios\n",
      "vip =-np.sort(-linalg.eig(d)[0])\n",
      "imshow(diag(vip),interpolation = 'nearest')\n",
      "total= np.sum(vip)\n",
      "total*0.9\n",
      "\n",
      "n = 0\n",
      "\n",
      "for i in range(n_dims):\n",
      "    n = n + vip[i]/total\n",
      "    \n",
      "    if (n>0.9):\n",
      "        n_importantes = i+1\n",
      "        print vip[i]\n",
      "        break\n",
      "        \n",
      "print n_importantes"
     ],
     "language": "python",
     "metadata": {},
     "outputs": [
      {
       "output_type": "stream",
       "stream": "stdout",
       "text": [
        "(1017, 24)\n",
        "1880.23731836"
       ]
      },
      {
       "output_type": "stream",
       "stream": "stdout",
       "text": [
        "\n",
        "11\n"
       ]
      },
      {
       "metadata": {},
       "output_type": "display_data",
       "png": "[encoded data removed]",
       "text": [
        "<matplotlib.figure.Figure at 0x116691ed0>"
       ]
      }
     ],
     "prompt_number": 71
    },
    {
     "cell_type": "code",
     "collapsed": false,
     "input": [],
     "language": "python",
     "metadata": {},
     "outputs": [],
     "prompt_number": 7
    },
    {
     "cell_type": "code",
     "collapsed": false,
     "input": [],
     "language": "python",
     "metadata": {},
     "outputs": []
    }
   ],
   "metadata": {}
  }
 ]
}