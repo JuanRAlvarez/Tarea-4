{
 "metadata": {
  "name": "",
  "signature": "sha256:46abc44717ef97fa4982545d499d5e885a211a062757a0a22c815b9a2774b332"
 },
 "nbformat": 3,
 "nbformat_minor": 0,
 "worksheets": [
  {
   "cells": [
    {
     "cell_type": "markdown",
     "metadata": {},
     "source": [
      "Tomando en cuenta los resultados de las pruebas saber (puntajes de matem\u00e1ticas y lenguaje), los datos de Alta dependencia econ\u00f3mica, Inasistencia Escolar, Sin Fuente Agua Mejorada. \u00bfHay alguna diferencia en la distribuci\u00f3n de estas variables entre los diferentes clusters definidos de acuerdo a los homicidios?"
     ]
    },
    {
     "cell_type": "code",
     "collapsed": false,
     "input": [
      "%pylab inline\n",
      "import csv"
     ],
     "language": "python",
     "metadata": {},
     "outputs": [
      {
       "output_type": "stream",
       "stream": "stdout",
       "text": [
        "Populating the interactive namespace from numpy and matplotlib\n"
       ]
      }
     ],
     "prompt_number": 3
    },
    {
     "cell_type": "code",
     "collapsed": false,
     "input": [
      "datosa = []\n",
      "datosb = []\n",
      "datosc = []\n",
      "datosd = []\n",
      "\n",
      "n_lines = 0\n",
      "\n",
      "with open('pobreza.csv', 'rb') as csvfile:\n",
      "    reader = csv.reader(csvfile, delimiter=' ', quotechar='\"')\n",
      "    for row in reader:\n",
      "        datosa.append(row[11])\n",
      "        datosb.append(row[13])\n",
      "        datosc.append(row[21])\n",
      "        datosd.append(row[29])\n",
      "        n_lines += 1\n",
      "        \n",
      "        \n",
      "n_lines = n_lines - 1\n",
      "\n",
      "daticos= empty((n_lines,4))\n",
      "\n",
      "for i in range(n_lines):\n",
      "    daticos[i][0] = datosa[i+1]\n",
      "    daticos[i][1] = datosb[i+1]\n",
      "    daticos[i][2] = datosc[i+1]\n",
      "    daticos[i][3] = datosd[i+1]\n",
      "    \n",
      "x = shape(daticos)\n",
      "\n",
      "print x"
     ],
     "language": "python",
     "metadata": {},
     "outputs": [
      {
       "output_type": "stream",
       "stream": "stdout",
       "text": [
        "(1113, 4)\n"
       ]
      }
     ],
     "prompt_number": 5
    },
    {
     "cell_type": "code",
     "collapsed": false,
     "input": [],
     "language": "python",
     "metadata": {},
     "outputs": []
    }
   ],
   "metadata": {}
  }
 ]
}