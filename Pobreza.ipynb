{
 "metadata": {
  "name": "",
  "signature": "sha256:301888826358c00761b16b90c59b094c717ba15a072001fc68497321bfe1a740"
 },
 "nbformat": 3,
 "nbformat_minor": 0,
 "worksheets": [
  {
   "cells": [
    {
     "cell_type": "heading",
     "level": 1,
     "metadata": {},
     "source": [
      "An\u00e1lisis por Componentes principales (PCA)"
     ]
    },
    {
     "cell_type": "code",
     "collapsed": false,
     "input": [
      "%pylab inline\n",
      "import csv"
     ],
     "language": "python",
     "metadata": {},
     "outputs": [
      {
       "output_type": "stream",
       "stream": "stdout",
       "text": [
        "Populating the interactive namespace from numpy and matplotlib\n"
       ]
      }
     ],
     "prompt_number": 2
    },
    {
     "cell_type": "code",
     "collapsed": false,
     "input": [
      "reader = csv.reader(open('pobreza.csv','rU'))\n",
      "\n",
      "data = []\n",
      "n_lines = 0\n",
      "for line in reader:\n",
      "    if not \"NA\" in line:\n",
      "        if not \"#DIV/0!\"in line:\n",
      "            data.append(line)\n",
      "            n_lines += 1\n",
      "            \n",
      "daticos = np.empty((n_lines,24))\n",
      "\n",
      "print data[0][0]"
     ],
     "language": "python",
     "metadata": {},
     "outputs": [
      {
       "output_type": "stream",
       "stream": "stdout",
       "text": [
        "C\u00f3digo.Municipio \"Poblaci\u00f3n\" \"Poblaci\u00f3n.Pobre\" \"Incidencia\" \"C\u00f3digo.Departamento\" \"Departamento\" \"Municipio\" \"N\u00famero.de.Hogares\" \"Bajo.Logro.Educativo\" \"Bajo.Logro.Educativo.Absoluto\" \"Analfabetismo\" \"Analfabetismo.Absoluto\" \"Inasistencia.Escolar\" \"Inasistencia.Escolar.Absoluto\" \"Rezago.Escolar\" \"Rezago.Escolar.Absoluto\" \"Barreras.Cuidado.Primera.Infancia\" \"Barreras.Cuidado.Primera.Infancia.Absoluto\" \"Trabajo.Infantil\" \"Trabajo.Infantil.Absoluto\" \"Alta.Dependencia.Econ\u00f3mica\" \"Alta.Dependencia.Econ\u00f3mica.Absoluto\" \"Empleo.Informal\" \"Empleo.Informal.Absoluto\" \"Sin.Seguro.Salud\" \"Sin.Seguro.Salud.Absoluto\" \"Barreras.Acceso.Salud\" \"Barreras.Acceso.Salud.Absoluto\" \"Sin.Fuente.Agua.Mejorada\" \"Sin.Fuente.Agua.Mejorada.Absoluto\" \"Inadecuada.Eliminaci\u00f3n.Excretas\" \"Inadecuada.Eliminaci\u00f3n.Excretas.Absoluto\" \"Pisos.Inadecuados\" \"Pisos.Inadecuados.Absoluto\" \"Paredes.Inadecuadas\" \"Paredes.Inadecuadas.Absoluto\" \"Hacinamiento\" \"Hacinamiento.Absoluto\" \"Coordenadas\" \"Latitud\" \"Longitud\" \"NivelesIncidencia\"\n"
       ]
      }
     ],
     "prompt_number": 20
    },
    {
     "cell_type": "code",
     "collapsed": false,
     "input": [],
     "language": "python",
     "metadata": {},
     "outputs": []
    }
   ],
   "metadata": {}
  }
 ]
}