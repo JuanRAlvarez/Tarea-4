{
 "metadata": {
  "name": "",
  "signature": "sha256:0f0403b85d74aebb817ba8a7dfcf60c1059ac8ba37ff5c3778fd2aca78bef98e"
 },
 "nbformat": 3,
 "nbformat_minor": 0,
 "worksheets": [
  {
   "cells": [
    {
     "cell_type": "heading",
     "level": 1,
     "metadata": {},
     "source": [
      "An\u00e1lisis por Componentes principales (PCA)"
     ]
    },
    {
     "cell_type": "code",
     "collapsed": false,
     "input": [
      "%pylab inline\n",
      "import csv"
     ],
     "language": "python",
     "metadata": {},
     "outputs": [
      {
       "output_type": "stream",
       "stream": "stdout",
       "text": [
        "Populating the interactive namespace from numpy and matplotlib\n"
       ]
      }
     ],
     "prompt_number": 2
    },
    {
     "cell_type": "code",
     "collapsed": false,
     "input": [
      "datosa = []\n",
      "datosb = []\n",
      "datosc = []\n",
      "datosd = []\n",
      "\n",
      "n_lines = 0\n",
      "\n",
      "with open('pobreza.csv', 'rb') as csvfile:\n",
      "    reader = csv.reader(csvfile, delimiter=' ', quotechar='\"')\n",
      "    for row in reader:\n",
      "        datosa.append(row[10])\n",
      "        datosb.append(row[12])\n",
      "        datosc.append(row[20])\n",
      "        datosd.append(row[28])\n",
      "        n_lines += 1\n",
      "        \n",
      "        \n",
      "n_lines = n_lines - 1\n",
      "\n",
      "daticos= empty((n_lines,4))\n",
      "\n",
      "for i in range(n_lines):\n",
      "    daticos[i][0] = datosa[i+1]\n",
      "    daticos[i][1] = datosb[i+1]\n",
      "    daticos[i][2] = datosc[i+1]\n",
      "    daticos[i][3] = datosd[i+1]\n",
      "    \n",
      "x = shape(daticos)\n",
      "\n",
      "\n",
      "n_datos = x[0]\n",
      "n_dims = x[1]\n",
      "\n",
      "#Calculo los valores medios\n",
      "\n",
      "media = zeros(n_dims)\n",
      "\n",
      "for i in range(n_dims):\n",
      "    media[i] = mean(daticos[i,:])\n",
      "    \n",
      "d = zeros((n_dims,n_dims)) #Inicializo mi matriz\n",
      "\n",
      "for i in range(n_dims):\n",
      "    for j in range(n_dims):\n",
      "        s = 0\n",
      "        for k in range(n_datos):\n",
      "            s += (daticos[k,i]-media[i])*(daticos[k,j]-media[j])\n",
      "            d[i,j] = s/(n_datos-1)\n",
      "            \n",
      "print d\n",
      "\n",
      "\n",
      "#imshow(log(d),interpolation='nearest')\n",
      "\n",
      "#Calculo los valores propios\n",
      "vip =-np.sort(-linalg.eig(d)[0])\n",
      "imshow(diag(vip),interpolation = 'nearest')\n",
      "total= np.sum(vip)\n",
      "total*0.9\n",
      "\n",
      "n = 0\n",
      "\n",
      "print vip\n",
      "\n",
      "for i in range(n_dims):\n",
      "    n = n + vip[i]/total\n",
      "    \n",
      "    if (n>0.6):\n",
      "        n_importantes = i+1\n",
      "        #print vip[i]\n",
      "        break\n",
      "        \n",
      "#print n_importantes"
     ],
     "language": "python",
     "metadata": {},
     "outputs": [
      {
       "output_type": "stream",
       "stream": "stdout",
       "text": [
        "[[  1.18543940e+10   1.56034791e+08   2.53542807e+07   5.07318759e+07]\n",
        " [  1.56034791e+08   3.45643197e+07   9.51637354e+06   1.61615053e+07]\n",
        " [  2.53542807e+07   9.51637354e+06   2.95333853e+06   4.89952746e+06]\n",
        " [  5.07318759e+07   1.61615053e+07   4.89952746e+06   8.30973784e+06]]\n",
        "[  1.18567273e+10   4.27111971e+07   7.36994366e+05   4.58676860e+04]"
       ]
      },
      {
       "output_type": "stream",
       "stream": "stdout",
       "text": [
        "\n"
       ]
      },
      {
       "metadata": {},
       "output_type": "display_data",
       "png": "[encoded data removed]",
       "text": [
        "<matplotlib.figure.Figure at 0x107579510>"
       ]
      }
     ],
     "prompt_number": 195
    },
    {
     "cell_type": "code",
     "collapsed": false,
     "input": [],
     "language": "python",
     "metadata": {},
     "outputs": []
    }
   ],
   "metadata": {}
  }
 ]
}