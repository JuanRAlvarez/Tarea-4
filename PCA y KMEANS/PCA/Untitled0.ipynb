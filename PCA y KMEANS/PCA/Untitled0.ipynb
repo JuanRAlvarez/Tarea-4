{
 "metadata": {
  "name": "",
  "signature": "sha256:4d05873adec21bb2d8f5b685ace157100babdbf2db5aae9cea739951e8471b63"
 },
 "nbformat": 3,
 "nbformat_minor": 0,
 "worksheets": [
  {
   "cells": [
    {
     "cell_type": "code",
     "collapsed": false,
     "input": [
      "%pylab inline"
     ],
     "language": "python",
     "metadata": {},
     "outputs": [
      {
       "output_type": "stream",
       "stream": "stdout",
       "text": [
        "Populating the interactive namespace from numpy and matplotlib\n"
       ]
      }
     ],
     "prompt_number": 1
    },
    {
     "cell_type": "code",
     "collapsed": false,
     "input": [
      "# M es el n\u00famero de datos\n",
      "# d barra es la media."
     ],
     "language": "python",
     "metadata": {},
     "outputs": [],
     "prompt_number": 2
    },
    {
     "cell_type": "code",
     "collapsed": false,
     "input": [
      "data=loadtxt(\"data.dat\")\n",
      "x =(shape(data))\n",
      "n_dims =x[1]\n",
      "n_data =x[0]\n",
      "\n",
      "\n",
      "media = zeros(n_dims)\n",
      "\n",
      "for i in range(n_dims):\n",
      "    media[i] = mean(data[:,i])\n",
      "    \n",
      "    \n",
      "print media[0]\n",
      "print media[1]"
     ],
     "language": "python",
     "metadata": {},
     "outputs": [
      {
       "output_type": "stream",
       "stream": "stdout",
       "text": [
        "1.81\n",
        "1.91\n"
       ]
      }
     ],
     "prompt_number": 44
    },
    {
     "cell_type": "code",
     "collapsed": false,
     "input": [
      "#\u00a0Calculo la matriz de covarianzas:\n",
      "\n",
      "d = zeros((n_dims,n_dims)) #Inicializo mi matriz\n",
      "\n",
      "\n",
      "for i in range(n_dims):\n",
      "    for j in range(n_dims):\n",
      "        s = 0\n",
      "        for k in range(n_data):\n",
      "            s += (data[k,i]-media[i])*(data[k,j]-media[j])\n",
      "            d[i,j] = s/(n_data-1)\n",
      "            \n",
      "print d"
     ],
     "language": "python",
     "metadata": {},
     "outputs": [
      {
       "output_type": "stream",
       "stream": "stdout",
       "text": [
        "[[ 0.61655556  0.61544444]\n",
        " [ 0.61544444  0.71655556]]\n"
       ]
      }
     ],
     "prompt_number": 59
    },
    {
     "cell_type": "code",
     "collapsed": false,
     "input": [
      "linalg.eig(d)"
     ],
     "language": "python",
     "metadata": {},
     "outputs": [
      {
       "metadata": {},
       "output_type": "pyout",
       "prompt_number": 74,
       "text": [
        "(array([ 0.0490834 ,  1.28402771]), array([[-0.73517866, -0.6778734 ],\n",
        "        [ 0.6778734 , -0.73517866]]))"
       ]
      }
     ],
     "prompt_number": 74
    },
    {
     "cell_type": "code",
     "collapsed": false,
     "input": [
      "w = linspace(0,3.5,100)\n",
      "v = 1.084*w\n",
      "\n",
      "m = -0.922*w + 3.5"
     ],
     "language": "python",
     "metadata": {},
     "outputs": [],
     "prompt_number": 90
    },
    {
     "cell_type": "code",
     "collapsed": false,
     "input": [
      "ax = axes()\n",
      "\n",
      "scatter(data[:,0],data[:,1])\n",
      "plot(w,v)\n",
      "plot(m,v)\n",
      "ax.set_aspect(1.0)"
     ],
     "language": "python",
     "metadata": {},
     "outputs": [
      {
       "metadata": {},
       "output_type": "display_data",
       "png": "[encoded data removed]",
       "text": [
        "<matplotlib.figure.Figure at 0x105a04b90>"
       ]
      }
     ],
     "prompt_number": 93
    },
    {
     "cell_type": "code",
     "collapsed": false,
     "input": [],
     "language": "python",
     "metadata": {},
     "outputs": []
    }
   ],
   "metadata": {}
  }
 ]
}