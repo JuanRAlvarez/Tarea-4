{
 "metadata": {
  "name": "",
  "signature": "sha256:e8dba196d7071e696fc933da5542d382d16af86483577db985e1ea868195f00a"
 },
 "nbformat": 3,
 "nbformat_minor": 0,
 "worksheets": [
  {
   "cells": [
    {
     "cell_type": "code",
     "collapsed": false,
     "input": [
      "%pylab inline"
     ],
     "language": "python",
     "metadata": {},
     "outputs": [
      {
       "output_type": "stream",
       "stream": "stdout",
       "text": [
        "Populating the interactive namespace from numpy and matplotlib\n"
       ]
      }
     ],
     "prompt_number": 2
    },
    {
     "cell_type": "code",
     "collapsed": false,
     "input": [
      "datos = loadtxt('data.dat')\n",
      "a = shape(datos)\n",
      "puntos = a[0]\n",
      "\n",
      "posx = datos[:,0]\n",
      "posy = datos[:,1]\n",
      "\n",
      "n_centros = 2\n",
      "\n",
      "centrosx = empty((0))\n",
      "centrosy = empty((0))\n",
      "distcentro1 = empty((0))\n",
      "distcentro2 = empty((0))\n",
      "\n",
      "for i in range(n_centros):\n",
      "    a = 14 * random.random() - 2\n",
      "    b = 14 * random.random() - 2\n",
      "    centrosx = append(centrosx,a)\n",
      "    centrosy = append(centrosy,b)\n",
      "    \n",
      "grupo1x = empty((0))\n",
      "grupo1y = empty((0))\n",
      "\n",
      "grupo2x = empty((0))\n",
      "grupo2y = empty((0))\n",
      "    \n",
      "for j in range(puntos):\n",
      "    distcentro1 = append(distcentro1, sqrt( (posx[j]-centrosx[0])**2 + (posy[j]-centrosy[0])**2 ))\n",
      "    distcentro2 = append(distcentro2, sqrt( (posx[j]-centrosx[1])**2 + (posy[j]-centrosy[1])**2 ))\n",
      "    \n",
      "    if (distcentro1[j]<=distcentro2[j]):\n",
      "        grupo1x = append(grupo1x,posx[j])\n",
      "        grupo1y = append(grupo1y,posy[j])\n",
      "    else:\n",
      "        grupo2x = append(grupo2x,posx[j])\n",
      "        grupo2y = append(grupo2y,posy[j])\n",
      "    \n",
      "scatter(centrosx,centrosy,c='k',s=50)    \n",
      "\n",
      "centrosx[0] = mean(grupo1x)\n",
      "centrosx[1] = mean(grupo2x)\n",
      "\n",
      "centrosy[0] = mean(grupo1y)\n",
      "centrosy[1] = mean(grupo2y)\n",
      "\n",
      "\n",
      "scatter(centrosx,centrosy,c='g',s=60) \n",
      "scatter(grupo1x,grupo1y,c='b')\n",
      "scatter(grupo2x,grupo2y,c='r')"
     ],
     "language": "python",
     "metadata": {},
     "outputs": [
      {
       "metadata": {},
       "output_type": "pyout",
       "prompt_number": 15,
       "text": [
        "<matplotlib.collections.PathCollection at 0x110233150>"
       ]
      },
      {
       "metadata": {},
       "output_type": "display_data",
       "png": "[encoded data removed]",
       "text": [
        "<matplotlib.figure.Figure at 0x110123a10>"
       ]
      }
     ],
     "prompt_number": 15
    },
    {
     "cell_type": "code",
     "collapsed": false,
     "input": [
      "datos = loadtxt('data.dat')\n",
      "a = shape(datos)\n",
      "n_puntos = a[0]\n",
      "ax = axes()\n",
      "\n",
      "posx = datos[:,0]\n",
      "posy = datos[:,1]\n",
      "\n",
      "n_centros = 2\n",
      "\n",
      "centrosx = empty((n_centros))\n",
      "centrosy = empty((n_centros))\n",
      "distcentros = empty((n_puntos,n_centros))\n",
      "minimos = empty((n_puntos))\n",
      "colores = random.random((n_centros,3))\n",
      "clustersx = empty((0))\n",
      "clustersy = empty((0))\n",
      "\n",
      "\n",
      "n_iteraciones = 100\n",
      "\n",
      "\n",
      "for i in range(n_centros):\n",
      "    a = 14 * random.random() - 2\n",
      "    b = 14 * random.random() - 2\n",
      "    centrosx[i] = a\n",
      "    centrosy[i] = b\n",
      "    \n",
      "\n",
      "for i in range(n_puntos):\n",
      "    distcentros[i,:] = sqrt((posx[i] - centrosx)**2 + (posy[i] - centrosy)**2)\n",
      "    minimos[i] = argmin(distcentros[i,:])\n",
      "    \n",
      "tama = [] \n",
      "tam = 0\n",
      "for i in range(n_centros):\n",
      "    arr_x = empty((0))\n",
      "    arr_y = empty((0))\n",
      "    \n",
      "    for j in range(n_puntos):\n",
      "        if (int(minimos[j])==i):\n",
      "            arr_x = append(arr_x,posx[j])\n",
      "            arr_y = append(arr_y,posy[j])\n",
      "    tam += size(arr_x)\n",
      "    tama.append(tam)\n",
      "            \n",
      "    clustersx = append(clustersx,arr_x)\n",
      "    clustersy = append(clustersy,arr_y)\n",
      "\n",
      "\n",
      "clustersx = split(clustersx,tama)\n",
      "clustersy = split(clustersy,tama)\n",
      "        \n",
      "    \n",
      "for k in range(n_iteraciones):\n",
      "    for l in range(n_centros):\n",
      "        if(clustersx[l]!=array([])):\n",
      "            centrosx[l] = mean(clustersx[l])\n",
      "            centrosy[l] = mean(clustersy[l])\n",
      "        else:\n",
      "            centrosx[l] += (2*random.random() - 1)\n",
      "            centrosy[l] += (2*random.random() - 1)\n",
      "    for i in range(n_puntos):\n",
      "        distcentros[i,:] = sqrt((posx[i] - centrosx)**2 + (posy[i] - centrosy)**2)\n",
      "        minimos[i] = argmin(distcentros[i,:])\n",
      "        \n",
      "        \n",
      "    tama = [] \n",
      "    tam = 0\n",
      "    clustersx = empty((0))\n",
      "    clustersy = empty((0))\n",
      "    for i in range(n_centros):\n",
      "        arr_x = empty((0))\n",
      "        arr_y = empty((0))\n",
      "    \n",
      "        for j in range(n_puntos):\n",
      "            if (int(minimos[j])==i):\n",
      "                arr_x = append(arr_x,posx[j])\n",
      "                arr_y = append(arr_y,posy[j])\n",
      "        tam += size(arr_x)\n",
      "        tama.append(tam)\n",
      "        \n",
      "        clustersx = append(clustersx,arr_x)\n",
      "        clustersy = append(clustersy,arr_y)\n",
      "        \n",
      "    clustersx = split(clustersx,tama)\n",
      "    clustersy = split(clustersy,tama)\n",
      "\n",
      "        \n",
      "for i in range(n_centros):\n",
      "    scatter(clustersx[i],clustersy[i],c=colores[i])\n",
      "    scatter(centrosx[i],centrosy[i],c=colores[i],s=110)"
     ],
     "language": "python",
     "metadata": {},
     "outputs": [
      {
       "metadata": {},
       "output_type": "display_data",
       "png": "[encoded data removed]",
       "text": [
        "<matplotlib.figure.Figure at 0x1137f14d0>"
       ]
      }
     ],
     "prompt_number": 421
    },
    {
     "cell_type": "code",
     "collapsed": false,
     "input": [],
     "language": "python",
     "metadata": {},
     "outputs": [],
     "prompt_number": 396
    },
    {
     "cell_type": "code",
     "collapsed": false,
     "input": [],
     "language": "python",
     "metadata": {},
     "outputs": []
    }
   ],
   "metadata": {}
  }
 ]
}